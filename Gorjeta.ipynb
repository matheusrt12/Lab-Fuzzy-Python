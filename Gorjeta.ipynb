{
 "cells": [
  {
   "cell_type": "code",
   "execution_count": null,
   "id": "408c6ffd",
   "metadata": {},
   "outputs": [
    {
     "name": "stderr",
     "output_type": "stream",
     "text": [
      "C:\\Users\\Matheus\\Anaconda3\\lib\\site-packages\\skfuzzy\\control\\fuzzyvariable.py:122: UserWarning: Matplotlib is currently using module://matplotlib_inline.backend_inline, which is a non-GUI backend, so cannot show the figure.\n",
      "  fig.show()\n",
      "C:\\Users\\Matheus\\Anaconda3\\lib\\site-packages\\skfuzzy\\control\\fuzzyvariable.py:122: UserWarning: Matplotlib is currently using module://matplotlib_inline.backend_inline, which is a non-GUI backend, so cannot show the figure.\n",
      "  fig.show()\n",
      "C:\\Users\\Matheus\\Anaconda3\\lib\\site-packages\\skfuzzy\\control\\fuzzyvariable.py:122: UserWarning: Matplotlib is currently using module://matplotlib_inline.backend_inline, which is a non-GUI backend, so cannot show the figure.\n",
      "  fig.show()\n"
     ]
    }
   ],
   "source": [
    "import numpy as np\n",
    "import skfuzzy as fuzz\n",
    "import matplotlib.pyplot as plt\n",
    "from skfuzzy import control as ctrl\n",
    "\n",
    "#Variaveis de Entrada (Antecedent)\n",
    "qualidade = ctrl.Antecedent(np.arange(0, 11, 1), 'qualidade')\n",
    "servico = ctrl.Antecedent(np.arange(0, 11, 1), 'servico')\n",
    "\n",
    "#Variaveis de saída (Consequent)\n",
    "gorjeta = ctrl.Consequent(np.arange(0, 31, 1), 'gorjeta')\n",
    "\n",
    "# automf -> Atribuição de categorias automaticamente\n",
    "qualidade.automf(names=['ruim','ok','otima'],)\n",
    "servico.automf(names=['ruim','medio','bom'])\n",
    "\n",
    "# atribuicao sem o automf\n",
    "gorjeta['minima'] = fuzz.gaussmf(gorjeta.universe, 0,.1)\n",
    "gorjeta['baixa'] = fuzz.gaussmf(gorjeta.universe, .1, 3)\n",
    "gorjeta['media'] = fuzz.gaussmf(gorjeta.universe, 15,5)\n",
    "gorjeta['alta'] = fuzz.gaussmf(gorjeta.universe, 30,5)\n",
    "\n",
    "\n",
    "#Visualizando as variáveis\n",
    "qualidade.view()\n",
    "servico.view()\n",
    "gorjeta.view()\n",
    "\n",
    "\n",
    "\n",
    "#Criando as regras\n",
    "regra_1 = ctrl.Rule(qualidade['ruim'] & servico['ruim'], gorjeta['minima'])\n",
    "regra_2 = ctrl.Rule(qualidade['ruim'] | servico['ruim'], gorjeta['baixa'])\n",
    "regra_3 = ctrl.Rule(servico['medio'], gorjeta['media'])\n",
    "regra_4 = ctrl.Rule(servico['bom'] | qualidade['otima'], gorjeta['alta'])\n",
    "\n",
    "controlador = ctrl.ControlSystem([regra_1, regra_2, regra_3,regra_4])\n",
    "\n",
    "\n",
    "#Simulando\n",
    "CalculoGorjeta = ctrl.ControlSystemSimulation(controlador)\n",
    "\n",
    "notaQualidade = int(input('Qualidade: '))\n",
    "notaServico = int(input('Servico: '))\n",
    "CalculoGorjeta.input['qualidade'] = notaQualidade\n",
    "CalculoGorjeta.input['servico'] = notaServico\n",
    "CalculoGorjeta.compute()\n",
    "\n",
    "valorGorjeta = CalculoGorjeta.output['gorjeta']\n",
    "\n",
    "print(\"\\nQualidade %d \\nServiço %d \\nGorjeta de %5.2f\" %(\n",
    "        notaQualidade,\n",
    "        notaServico,\n",
    "        valorGorjeta))\n",
    "\n",
    "\n",
    "qualidade.view(sim=CalculoGorjeta)\n",
    "servico.view(sim=CalculoGorjeta)\n",
    "gorjeta.view(sim=CalculoGorjeta)\n",
    "\n",
    "plt.show()"
   ]
  },
  {
   "cell_type": "code",
   "execution_count": null,
   "id": "363ed423",
   "metadata": {},
   "outputs": [],
   "source": []
  }
 ],
 "metadata": {
  "kernelspec": {
   "display_name": "Python 3 (ipykernel)",
   "language": "python",
   "name": "python3"
  },
  "language_info": {
   "codemirror_mode": {
    "name": "ipython",
    "version": 3
   },
   "file_extension": ".py",
   "mimetype": "text/x-python",
   "name": "python",
   "nbconvert_exporter": "python",
   "pygments_lexer": "ipython3",
   "version": "3.9.12"
  }
 },
 "nbformat": 4,
 "nbformat_minor": 5
}
